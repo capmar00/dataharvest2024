{
 "cells": [
  {
   "cell_type": "markdown",
   "metadata": {
    "id": "fjOArsnrdMA-"
   },
   "source": [
    "# What we will do\n",
    "\n",
    "\n",
    "During this session, we will learn how to open, read and handle climate dataset, analyzing the total precipitation avarage worldwide during the month of July 2023.\n",
    "\n",
    "In order to do this, we will use a dataset provided by the Copernicus Data Store: click the link https://cds.climate.copernicus.eu/cdsapp#!/search?type=dataset and select the dataset named **ERA5 monthly averaged data on single levels from 1940 to present**.\n",
    "\n",
    "Click on the \"Download data\" tab and select these options:  \n",
    "* Product type: Monthly averaged reanalysis  \n",
    "* Popular: Total precipitation  \n",
    "* Year: 2023  \n",
    "* Month: July  \n",
    "* Time: 00:00  \n",
    "* Format: NetCDF  \n",
    "\n",
    "At the end check the “Terms of use” and then click on “Submit form” button.\n",
    "\n",
    "\n",
    "Download the dataset and save it in the same folder of your python notebook."
   ]
  },
  {
   "cell_type": "markdown",
   "metadata": {
    "id": "Exz4Y3fyfa0N"
   },
   "source": [
    "# Importing the libraries\n",
    "\n",
    "Here are the libraries we need for our analysis.\n",
    "\n",
    "Probably you need to install these  libreries with `pip install` command."
   ]
  },
  {
   "cell_type": "code",
   "execution_count": null,
   "metadata": {},
   "outputs": [],
   "source": [
    "import warnings\n",
    "warnings.filterwarnings('ignore')"
   ]
  },
  {
   "cell_type": "code",
   "execution_count": null,
   "metadata": {},
   "outputs": [],
   "source": [
    "pip install numpy xarray matplotlib --quiet"
   ]
  },
  {
   "cell_type": "code",
   "execution_count": null,
   "metadata": {
    "id": "7uUEYZN8aqgI"
   },
   "outputs": [],
   "source": [
    "import xarray as xr\n",
    "from matplotlib import pyplot as plt\n",
    "\n",
    "# %matplotlib inline necessary for getting your plot embedded within the notebook, rather than in a separate window or output cell\n",
    "%matplotlib inline\n",
    "plt.rcParams['figure.figsize'] = (8,5) # This line initializes a new figure for plotting with a specified size of 8 inches in width and 5 inches in height."
   ]
  },
  {
   "cell_type": "markdown",
   "metadata": {
    "id": "588yjh7zrNav"
   },
   "source": [
    "# Xarray library\n",
    "\n",
    "Xarray is a library used to handle multi-dimensional arrays, as in the case of the netCDF files.\n",
    "\n",
    "Here you can find the documentation and a gallery of its potential usage:\n",
    "\n",
    "* https://docs.xarray.dev/en/latest/howdoi.html\n",
    "* https://docs.xarray.dev/en/latest/gallery.html\n",
    "\n",
    "\n",
    "\n",
    "## Xarray data structures\n",
    "Xarray has 2 fundamental data structures:\n",
    "\n",
    "* DataArray, that stores a single multi-dimensional variable and its coordinates\n",
    "* Dataset, that stores multiple variables and their coordinates\n",
    "\n",
    "## DataArray\n",
    "\n",
    "A DataArray has 4 essential attributes:\n",
    "\n",
    "* values: the array of values\n",
    "* dims: the dimension names for each axis\n",
    "* coords: the coordinates of each point\n",
    "* attrs: the metadata\n",
    "\n",
    "Let’s see how Xarray works by creating a DataArray"
   ]
  },
  {
   "cell_type": "code",
   "execution_count": null,
   "metadata": {
    "colab": {
     "base_uri": "https://localhost:8080/"
    },
    "id": "pGnXLQ3ChmbE",
    "outputId": "a061c0a7-9389-4e76-9172-531292514225"
   },
   "outputs": [],
   "source": [
    "da = xr.DataArray([25, 28, 33, 26, 30])\n",
    "print(da)"
   ]
  },
  {
   "cell_type": "markdown",
   "metadata": {
    "id": "pf3hqTVLg7C5"
   },
   "source": [
    "The dimension of the array is 5, let's assing a name instead of the default one `dim_0`."
   ]
  },
  {
   "cell_type": "code",
   "execution_count": null,
   "metadata": {
    "colab": {
     "base_uri": "https://localhost:8080/"
    },
    "id": "_v0aldz1iDkh",
    "outputId": "6f69a308-cf2f-4ce2-a9ce-a550689d7303"
   },
   "outputs": [],
   "source": [
    "da = xr.DataArray([25, 28, 33, 26, 30], dims=['long'])\n",
    "print(da)"
   ]
  },
  {
   "cell_type": "markdown",
   "metadata": {
    "id": "jFGX3cYEhUQC"
   },
   "source": [
    "We can add coordinates to this dimension:"
   ]
  },
  {
   "cell_type": "code",
   "execution_count": null,
   "metadata": {
    "colab": {
     "base_uri": "https://localhost:8080/"
    },
    "id": "TEUxkoxUjUON",
    "outputId": "3fb9804e-a939-4dde-fbd9-9a9d9ad66fa1"
   },
   "outputs": [],
   "source": [
    "da = xr.DataArray([25, 28, 33, 26, 30],\n",
    "                  dims=['long'],\n",
    "                  coords={'long': [10, 20, 30, 40, 50]})\n",
    "print(da)"
   ]
  },
  {
   "cell_type": "markdown",
   "metadata": {
    "id": "YTxnAV7XrgNa"
   },
   "source": [
    "The coordinates are also used to create indexes, which have the same use as indexes in Pandas:"
   ]
  },
  {
   "cell_type": "code",
   "execution_count": null,
   "metadata": {
    "colab": {
     "base_uri": "https://localhost:8080/"
    },
    "id": "bUO5aQn5jn51",
    "outputId": "266bcc9a-2feb-4517-e897-553a9c0e5afd"
   },
   "outputs": [],
   "source": [
    "print(da.indexes)"
   ]
  },
  {
   "cell_type": "markdown",
   "metadata": {
    "id": "8yXxEsklqcrd"
   },
   "source": [
    "To create plots with Xarray, we use the built-in method `.plot()`: this method automatically generates a plot based on the dimensions and data of the DataArray (to learn more https://docs.xarray.dev/en/latest/user-guide/plotting.html)"
   ]
  },
  {
   "cell_type": "code",
   "execution_count": null,
   "metadata": {
    "colab": {
     "base_uri": "https://localhost:8080/",
     "height": 482
    },
    "id": "Q5PVJSRAjwpk",
    "outputId": "f28b3d6f-a040-49b3-9d59-99e441b04be8"
   },
   "outputs": [],
   "source": [
    "da.plot(marker='o')   # marker = 'o' specifies that each data point should be marked with a circle"
   ]
  },
  {
   "cell_type": "markdown",
   "metadata": {
    "id": "E6CJp_gEhkHQ"
   },
   "source": [
    "Now that we have become a bit more familiar with these new library and their structures, let's work with real data."
   ]
  },
  {
   "cell_type": "markdown",
   "metadata": {
    "id": "xA9s1SElnB9Z"
   },
   "source": [
    "# Loading and exploring the data"
   ]
  },
  {
   "cell_type": "markdown",
   "metadata": {
    "id": "Sz4_TrJNhyVw"
   },
   "source": [
    "To open and read our dataset we use the method `.open_dataset()`"
   ]
  },
  {
   "cell_type": "code",
   "execution_count": null,
   "metadata": {
    "colab": {
     "base_uri": "https://localhost:8080/"
    },
    "id": "SKMv6w-odFqb",
    "outputId": "796ff4e3-995c-4998-be54-dd85b58b4596"
   },
   "outputs": [],
   "source": [
    "dset = xr.open_dataset(\"ESOTC_global_temperature_indicator_2023.nc\")\n",
    "print(dset)"
   ]
  },
  {
   "cell_type": "markdown",
   "metadata": {
    "id": "GRxgwwS1i6Oq"
   },
   "source": [
    "The output of the `print` command returns a preview of the dataset contents: the dimensions, the coordinates, the variables and the attributes.\n",
    "\n",
    "We can inspect them in more details:"
   ]
  },
  {
   "cell_type": "code",
   "execution_count": null,
   "metadata": {
    "colab": {
     "base_uri": "https://localhost:8080/"
    },
    "id": "G9N135GcmWrV",
    "outputId": "bcd4f23c-e8b3-459e-a439-2d907087526d"
   },
   "outputs": [],
   "source": [
    "# Print global attributes\n",
    "print(\"Global Attributes:\")\n",
    "print(dset.attrs)"
   ]
  },
  {
   "cell_type": "code",
   "execution_count": null,
   "metadata": {
    "colab": {
     "base_uri": "https://localhost:8080/"
    },
    "id": "4SyBcQs-mi2d",
    "outputId": "021a819d-7f04-478b-fda6-6e41fdb4ef0a"
   },
   "outputs": [],
   "source": [
    "# Print attributes of each variable\n",
    "print(\"Variables and their Attributes:\")\n",
    "for var in dset.data_vars:\n",
    "    print(f\"{var}:\")\n",
    "    print(dset[var].attrs)"
   ]
  },
  {
   "cell_type": "markdown",
   "metadata": {
    "id": "0IjVpMuyjbBm"
   },
   "source": [
    "So we can see that the variable `tp` is the total precipitation we want to analyze, and it is expressed in meters."
   ]
  },
  {
   "cell_type": "code",
   "execution_count": null,
   "metadata": {
    "colab": {
     "base_uri": "https://localhost:8080/"
    },
    "id": "LEY1mGpmnAcJ",
    "outputId": "061c1651-bf27-406c-f18c-7c889115e555"
   },
   "outputs": [],
   "source": [
    "print(dset['tp'])"
   ]
  },
  {
   "cell_type": "markdown",
   "metadata": {
    "id": "Md4VX7kZkWil"
   },
   "source": [
    "## 👉 Now it's your turn\n",
    "\n",
    "\n",
    "1.   What is the time dimension, and which date does it correspond to?\n",
    "2.   What does the number 1038240 correspond to, and how is it calculated?\n",
    "3.   Have you noticed the values for latitude (721) and longitude (1440)? They seem inconsistent with the range of values we know: -90° to 90° for latitude and -180° to 180° for longitude. How do you explain this?\n",
    "\n",
    "\n",
    "\n"
   ]
  },
  {
   "cell_type": "markdown",
   "metadata": {
    "id": "iifwRVscnoTA"
   },
   "source": [
    "🆘 solution\n",
    "\n",
    "1. the data array `tp` has only one time step (one temporal record) and correspond to the date July 1st, 2023.\n",
    "2. The count of 1038240 values matches the product of the dimensions: 1 (time) × 721 (latitude) × 1440 (longitude), which totals 1,038,240. Each of these values represents a float32 data point, indicating the total precipitation recorded at each geographic coordinate for the given time.\n",
    "3. The longitude value 1440 degrees implies that the dataset covers longitude from -180 to +180 degrees at a resolution of about 0.25 degrees (360/1440 = 0.25 degrees). The same logic can be applied to the latitude: 721 suggests that the dataset covers latitude from the South Pole to the North Pole at a resolution of about 0.25 degrees (360/720 = 0.5 degrees for half the globe)"
   ]
  },
  {
   "cell_type": "markdown",
   "metadata": {
    "id": "xYSR_hOcoqpO"
   },
   "source": [
    "# Visualize the data"
   ]
  },
  {
   "cell_type": "markdown",
   "metadata": {
    "id": "rkbhPhW7otud"
   },
   "source": [
    "Now it's time to represent the content of this dataset in a more immediate way, and to do this, we use the `.plot()` method."
   ]
  },
  {
   "cell_type": "code",
   "execution_count": null,
   "metadata": {
    "colab": {
     "base_uri": "https://localhost:8080/",
     "height": 504
    },
    "id": "-MsbCfq-pu4E",
    "outputId": "a9b34f08-07e4-49b0-de57-c8a6fe31fc79"
   },
   "outputs": [],
   "source": [
    "dset['tp'].plot()"
   ]
  },
  {
   "cell_type": "markdown",
   "metadata": {
    "id": "kYBVq5ATqxTZ"
   },
   "source": [
    "This basic version of the plot shows how precipitation values are distributed spatially, but honestly, it is not very informative for those viewing it. How can we improve its readability?   \n",
    "The precipitation values are expressed in meters, so we can set a threshold at scale of 0.02 and change the default color map."
   ]
  },
  {
   "cell_type": "code",
   "execution_count": null,
   "metadata": {
    "colab": {
     "base_uri": "https://localhost:8080/",
     "height": 504
    },
    "id": "igaF6NasqCC9",
    "outputId": "4670e20f-89c7-4cad-9e4c-1dfe3a5b74cf"
   },
   "outputs": [],
   "source": [
    "dset['tp'].plot(cmap='jet', vmax=0.02)"
   ]
  },
  {
   "cell_type": "markdown",
   "metadata": {
    "id": "RhtDss6LqojX"
   },
   "source": [
    "`cmap='jet'`: cmap parameter specifies the colormap used to represent the data. The 'jet' colormap is a popular choice in scientific visualization and includes a spectrum from blue to red, passing through cyan, yellow, and orange. Blue typically represents lower values, while red represents higher values.\n",
    "\n",
    "`vmax=0.02`: this parameter sets the maximum value of the colormap. Any data value that is 0.02 or higher will be colored with the maximum color (red in the case of 'jet'). This is useful for standardizing the color scale across multiple plots or for emphasizing a specific range of data. It ensures that all values at or above 0.02 are highlighted similarly, which can help in identifying areas of heavy precipitation if 0.02 is considered significant."
   ]
  },
  {
   "cell_type": "markdown",
   "metadata": {
    "id": "x2BDgUK6sgST"
   },
   "source": [
    "The result of this second version of the chart is definitely clearer and more interpretable. But let's try to further customize it by defining a scale of shades of blue, and modifying the title and the axis labels."
   ]
  },
  {
   "cell_type": "code",
   "execution_count": null,
   "metadata": {
    "colab": {
     "base_uri": "https://localhost:8080/",
     "height": 507
    },
    "id": "SDlebo_jtrOj",
    "outputId": "68292430-7f59-465b-90c7-949925af2ef9"
   },
   "outputs": [],
   "source": [
    "dset['tp'].plot(cmap=plt.cm.Blues, vmax=0.02)\n",
    "plt.title(\"Total precipitation worlwide in July 2023\")\n",
    "plt.ylabel(\"Latitude (degrees, north)\")\n",
    "plt.xlabel(\"Longitude (degrees, east)\")\n",
    "plt.tight_layout()\n",
    "plt.draw()"
   ]
  },
  {
   "cell_type": "markdown",
   "metadata": {
    "id": "GnWnZ8nlvKWf"
   },
   "source": [
    "The `.tight_layout()` function from Matplotlib is used to automatically adjust the plot parameters such as the sizes and positions of subplots, axis labels, titles, and legends so that they fit nicely in the plot window.\n",
    "\n",
    "The `draw()` function is used to update a figure after it has been altered but not automatically re-rendered."
   ]
  },
  {
   "cell_type": "markdown",
   "metadata": {
    "id": "bmMzQJURtJD9"
   },
   "source": [
    "# Create a map\n",
    "\n",
    "This version of the chart also has interpretive difficulties: it shows precipitation by latitude and longitude, but it would be much easier if we could see it associated with a map.\n",
    "\n",
    "To do it, we will use a very powerful Cartographic library name cartopy (here the link to the documentation https://scitools.org.uk/cartopy/docs/latest/)"
   ]
  },
  {
   "cell_type": "markdown",
   "metadata": {
    "id": "cHO66m_Otusx"
   },
   "source": [
    "We need to install and import it:"
   ]
  },
  {
   "cell_type": "code",
   "execution_count": null,
   "metadata": {
    "colab": {
     "base_uri": "https://localhost:8080/"
    },
    "id": "PCRnRI70wFoL",
    "outputId": "fe6ee328-2668-4a49-ff52-7fde809e5d7d"
   },
   "outputs": [],
   "source": [
    "pip install cartopy --quiet"
   ]
  },
  {
   "cell_type": "code",
   "execution_count": null,
   "metadata": {
    "id": "jdwY839oy0Ui"
   },
   "outputs": [],
   "source": [
    "import cartopy.crs as ccrs"
   ]
  },
  {
   "cell_type": "markdown",
   "metadata": {
    "id": "kLfg94t5t07R"
   },
   "source": [
    "And now we can proceed using one of the projection provided by the library.\n"
   ]
  },
  {
   "cell_type": "code",
   "execution_count": null,
   "metadata": {
    "colab": {
     "base_uri": "https://localhost:8080/",
     "height": 481
    },
    "id": "uznnHYH9vnQU",
    "outputId": "814415b6-865b-46e2-de22-65b93f1632f3"
   },
   "outputs": [],
   "source": [
    "fig = plt.figure(figsize=[12,5])\n",
    "ax = fig.add_subplot(111, projection=ccrs.PlateCarree(central_longitude=0)) # Adds a subplot to the figure. The `111` argument indicates that there is one row, one column, and this is the first subplot.\n",
    "dset['tp'].isel(time=0).plot(ax=ax, cmap=plt.cm.Blues, vmax=0.02,\n",
    "                   transform=ccrs.PlateCarree())\n",
    "ax.coastlines()\n",
    "plt.show()"
   ]
  },
  {
   "cell_type": "markdown",
   "metadata": {
    "id": "Zmz-BY8-u0_I"
   },
   "source": [
    "Let's examine the code line by line:\n",
    "\n",
    "1. `fig = plt.figure(figsize=[12,5])`: initializes a new figure for plotting with a specified size of 12 inches in width and 5 inches in height.\n",
    "\n",
    "2. `ax = fig.add_subplot(111, projection=ccrs.PlateCarree(central_longitude=0))`: adds a subplot to the figure. The `111` argument indicates that there is one row, one column, and this is the first subplot.  \n",
    "The subplot uses a specific projection called `PlateCarree`.  \n",
    "`central_longitude=0` sets the central longitude of the map projection to 0 degrees, i.e. the Greenwich Meridian.\n",
    "\n",
    "3. `dset['tp'].isel(time=0).plot(ax=ax, cmap=plt.cm.Blues, vmax=0.02, transform=ccrs.PlateCarree())`:  \n",
    "`dset['tp']` accesses the total precipitation variable.  \n",
    "`.isel(time=0)` selects the first time step from the dataset using index-based selection.  \n",
    "At the method `.plot()` we need to add the new argument `transform=ccrs.PlateCarree()` to properly align the data with the map projection.\n",
    "\n",
    "4. `ax.coastlines()`: adds coastlines to the map, helping to delineate major geographic features like continents and islands.\n",
    "\n",
    "5. `plt.show()`: displays the plot."
   ]
  },
  {
   "cell_type": "markdown",
   "metadata": {
    "id": "IvOk4nWFw-Ie"
   },
   "source": [
    "In this new chart, however, we have lost the x (longitude) and y (latitude) axis values and, by setting the 0°  longitude in a central position, the chart has been shifted compared to our previous visualizations.\n",
    "\n",
    "Let's see how to adjust the longitude tick labels so that they properly start at 0 and do not include 360 (which effectively is the same position as 0 on the map)."
   ]
  },
  {
   "cell_type": "code",
   "execution_count": null,
   "metadata": {
    "colab": {
     "base_uri": "https://localhost:8080/",
     "height": 487
    },
    "id": "rmy8kNTQzgTG",
    "outputId": "91e6df14-d947-4770-df36-50c3b5a27153"
   },
   "outputs": [],
   "source": [
    "fig = plt.figure(figsize=[12, 5])\n",
    "ax = fig.add_subplot(111, projection=ccrs.PlateCarree(central_longitude=180))\n",
    "tp_data = dset['tp'].isel(time=0)\n",
    "\n",
    "\n",
    "im = tp_data.plot(ax=ax, cmap=plt.cm.Blues, vmax=0.02,\n",
    "                  transform=ccrs.PlateCarree(), add_colorbar=False)  # Turn off default colorbar\n",
    "ax.coastlines()\n",
    "ax.set_global()  # Ensure the map spans from -180 to 180 when central_longitude is 180\n",
    "\n",
    "ax.set_yticks(range(-90, 91, 30), crs=ccrs.PlateCarree())  # Set y-ticks every 30 degrees\n",
    "\n",
    "# Adjust the x-ticks for 0 to 360 display\n",
    "new_ticks = [0, 30, 60, 90, 120, 150, 180, 210, 240, 270, 300, 330]\n",
    "adjusted_ticks = [(x - 180) % 360 - 180 for x in new_ticks]  # Adjust ticks to match the central_longitude\n",
    "ax.set_xticks(adjusted_ticks, crs=ccrs.PlateCarree())  # Set x-ticks\n",
    "\n",
    "ax.set_xticklabels(new_ticks)  # Label ticks as we want them to appear\n",
    "ax.set_xlabel('Longitude')  # Set x-axis label\n",
    "ax.set_ylabel('Latitude')  # Set y-axis label\n",
    "ax.set_title(f\"Total Precipitation on {str(tp_data.time.values)[:10]}\")\n",
    "\n",
    "# Adding the colorbar manually\n",
    "cbar = plt.colorbar(im, ax=ax, orientation='vertical', fraction=0.046, pad=0.04)\n",
    "cbar.set_label('Precipitation (m)')  # Set colorbar label\n",
    "\n",
    "plt.show()"
   ]
  },
  {
   "cell_type": "markdown",
   "metadata": {
    "id": "le7k1BxKrUOx"
   },
   "source": [
    "# Select an AOL - Area of Location\n",
    "\n",
    "Now we want to create a map that focuses specifically on Europe, so we will need to adjust the geographical extent to zoom in on Europe. We can do it defining a specific bounding box for Europe."
   ]
  },
  {
   "cell_type": "code",
   "execution_count": null,
   "metadata": {
    "colab": {
     "base_uri": "https://localhost:8080/",
     "height": 465
    },
    "id": "o2bLy-QZ4vTM",
    "outputId": "ff442fe8-4be5-440b-a45b-08c577d6325f"
   },
   "outputs": [],
   "source": [
    "# latitude and longitude ranges for Europe\n",
    "lat_min = 35\n",
    "lat_max = 71\n",
    "lon_min = -10\n",
    "lon_max = 40\n",
    "\n",
    "fig = plt.figure(figsize=[12, 5])\n",
    "ax = fig.add_subplot(111, projection=ccrs.PlateCarree(central_longitude=10)) # 10 degrees is a central longitude that fits well for Europe.\n",
    "tp_data = dset['tp'].isel(time=0)\n",
    "ax.set_extent([lon_min, lon_max, lat_min, lat_max], crs=ccrs.PlateCarree())\n",
    "im = tp_data.plot(ax=ax, cmap=plt.cm.Blues, vmax=0.02,\n",
    "                  transform=ccrs.PlateCarree(), add_colorbar=False)\n",
    "\n",
    "ax.coastlines(resolution='50m')\n",
    "\n",
    "# Adding gridlines and mute labels\n",
    "gl = ax.gridlines(draw_labels=True, linewidth=1, color='gray', alpha=0.5, linestyle='--')\n",
    "gl.top_labels = False\n",
    "gl.right_labels = False\n",
    "\n",
    "# Adding the colorbar manually\n",
    "cbar = plt.colorbar(im, ax=ax, orientation='vertical', fraction=0.046, pad=0.04)\n",
    "cbar.set_label('Precipitation (m)')\n",
    "\n",
    "# Set labels and title\n",
    "ax.set_xlabel('Longitude')\n",
    "ax.set_ylabel('Latitude')\n",
    "ax.set_title('Total Precipitation over Europe on July 2023')\n",
    "\n",
    "plt.show()"
   ]
  },
  {
   "cell_type": "markdown",
   "metadata": {
    "id": "5J_wuuaszUcH"
   },
   "source": [
    "`orientation='vertical'`: This sets the orientation of the colorbar. Here, it's vertical, meaning the colorbar will be displayed vertically, typically to the right of the plot.  \n",
    "`fraction=0.046`: This parameter controls the size of the colorbar relative to the axes. The value 0.046 means the colorbar will take up approximately 4.6% of the axes' width (for a vertical colorbar) or height (for a horizontal colorbar).  \n",
    "`pad=0.04`: This sets the space between the colorbar and the axes. The value 0.04 means there will be a space equal to 4% of the axes' width (for a vertical colorbar) or height (for a horizontal colorbar) between the axes and the colorbar."
   ]
  },
  {
   "cell_type": "markdown",
   "metadata": {
    "id": "4dVYvJQ_0Mkz"
   },
   "source": [
    "# 3D Visualization\n",
    "\n",
    "Cartopy provides projections that allow three-dimensional visualizations. Therefore, let's use the Orthographic projection to create a globe-like view centered on Europe."
   ]
  },
  {
   "cell_type": "code",
   "execution_count": null,
   "metadata": {
    "colab": {
     "base_uri": "https://localhost:8080/",
     "height": 772
    },
    "id": "uH-4WHDY6zS7",
    "outputId": "c623024c-7787-4203-876e-2b6d0a353bc3"
   },
   "outputs": [],
   "source": [
    "fig = plt.figure(figsize=[10, 10])  # Square figure for the spherical look\n",
    "\n",
    "# Set up the Orthographic projection centered on a point that best views Europe\n",
    "ax = fig.add_subplot(111, projection=ccrs.Orthographic(central_longitude=10, central_latitude=50))\n",
    "\n",
    "# Select the variable and the time step\n",
    "tp_data = dset['tp'].isel(time=0)\n",
    "\n",
    "# Plotting the data, ensure the transformation is specified correctly for this projection\n",
    "im = tp_data.plot(ax=ax, cmap=plt.cm.Blues, vmax=0.02,\n",
    "                  transform=ccrs.PlateCarree(), add_colorbar=False)\n",
    "\n",
    "# Set global extent to show the globe appearance\n",
    "ax.set_global()\n",
    "\n",
    "ax.coastlines(resolution='50m')\n",
    "gl = ax.gridlines(draw_labels=False, linewidth=0.5, color='gray', alpha=0.5, linestyle='--')\n",
    "cbar = plt.colorbar(im, ax=ax, orientation='vertical', fraction=0.03, pad=0.05)\n",
    "cbar.set_label('Precipitation (m)')\n",
    "\n",
    "ax.set_title('Orthographic Projection: Precipitation over Europe')\n",
    "\n",
    "plt.show()"
   ]
  }
 ],
 "metadata": {
  "colab": {
   "provenance": []
  },
  "kernelspec": {
   "display_name": "Python 3 (ipykernel)",
   "language": "python",
   "name": "python3"
  },
  "language_info": {
   "codemirror_mode": {
    "name": "ipython",
    "version": 3
   },
   "file_extension": ".py",
   "mimetype": "text/x-python",
   "name": "python",
   "nbconvert_exporter": "python",
   "pygments_lexer": "ipython3",
   "version": "3.10.12"
  }
 },
 "nbformat": 4,
 "nbformat_minor": 4
}
